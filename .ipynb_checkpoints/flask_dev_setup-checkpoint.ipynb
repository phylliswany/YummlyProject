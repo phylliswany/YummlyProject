{
 "cells": [
  {
   "cell_type": "markdown",
   "metadata": {},
   "source": [
    "# Flask dev setup"
   ]
  },
  {
   "cell_type": "markdown",
   "metadata": {},
   "source": [
    "This tutorial is designed to \n",
    "    - prepare your computer to run a flask-based application\n",
    "    - demonstrate how an applicaation can interface with a SQL database\n",
    "    - demonstrate the use of templates\n",
    "Flask is great at maximizing simplicity and flexibility, but it's not the only option for building a web application. <br>\n",
    "Read about tradeoffs [here](https://www.airpair.com/python/posts/django-flask-pyramid)\n",
    " "
   ]
  },
  {
   "cell_type": "markdown",
   "metadata": {},
   "source": [
    "### 1. Install Flask\n",
    "At the command line: <br>\n",
    "```\n",
    "pip install flask\n",
    "```"
   ]
  },
  {
   "cell_type": "markdown",
   "metadata": {},
   "source": [
    "### 2. Create directories for initial site"
   ]
  },
  {
   "cell_type": "markdown",
   "metadata": {},
   "source": [
    "Navigate to the folder that will store your application. In this directory, create new folders: <br>\n",
    "```\n",
    "mkdir flaskexample\n",
    "mkdir flaskexample/static\n",
    "mkdir flaskexample/templates\n",
    "mkdir tmp\n",
    "```"
   ]
  },
  {
   "cell_type": "markdown",
   "metadata": {},
   "source": [
    "The flaskexample folder will be where we will put our application package. The static sub-folder is where we will store static files like images, javascripts, and style sheets. The templates sub-folder is obviously where our templates will go."
   ]
  },
  {
   "cell_type": "markdown",
   "metadata": {},
   "source": [
    "### 3. Create initialization file"
   ]
  },
  {
   "cell_type": "markdown",
   "metadata": {},
   "source": [
    "Create a new file called ** flaskexample/\\_\\_init\\_\\_.py ** with the following content: <br>"
   ]
  },
  {
   "cell_type": "markdown",
   "metadata": {
    "collapsed": true
   },
   "source": [
    "```\n",
    "from flask import Flask\n",
    "app = Flask(__name__)\n",
    "from flaskexample import views\n",
    "```"
   ]
  },
  {
   "cell_type": "markdown",
   "metadata": {},
   "source": [
    "The script above simply creates the application object (of class Flask) and then imports the views module, which we haven't written yet.\n",
    "\n",
    "The views are the handlers that respond to requests from web browsers. In Flask views are written as Python functions. Each view function is mapped to one or more request URLs."
   ]
  },
  {
   "cell_type": "markdown",
   "metadata": {},
   "source": [
    "### 4. First view function "
   ]
  },
  {
   "cell_type": "markdown",
   "metadata": {},
   "source": [
    "Let's write our first view function in a new file called  ** flaskexample/views.py**:"
   ]
  },
  {
   "cell_type": "markdown",
   "metadata": {},
   "source": [
    "```\n",
    "from flaskexample import app\n",
    "\n",
    "@app.route('/')\n",
    "@app.route('/index')\n",
    "def index():\n",
    "   return \"Hello, World!\"\n",
    "```"
   ]
  },
  {
   "cell_type": "markdown",
   "metadata": {},
   "source": [
    "This view is actually pretty simple; it just returns a string, to be displayed on the client's web browser. The two route decorators above the function create the mappings from urls / and /index to this function."
   ]
  },
  {
   "cell_type": "markdown",
   "metadata": {},
   "source": [
    "Next we need to point to python. On the command line, type *** which python *** and note the path."
   ]
  },
  {
   "cell_type": "markdown",
   "metadata": {},
   "source": [
    "### 5. Starting up application"
   ]
  },
  {
   "cell_type": "markdown",
   "metadata": {},
   "source": [
    "The final step to have a fully working web app is to create a script that starts up the development web server with our application. Let's make a new file called **run.py** (in the folder a level above flaskexample):"
   ]
  },
  {
   "cell_type": "markdown",
   "metadata": {},
   "source": [
    "```\n",
    "#!/usr/bin/env python\n",
    "from flaskexample import app\n",
    "app.run(debug = True)\n",
    "```"
   ]
  },
  {
   "cell_type": "markdown",
   "metadata": {},
   "source": [
    "The script simply imports the app variable from our flaskexample package and invokes its run method to start the server. Remember that the app variable holds the Flask instance, we created it above."
   ]
  },
  {
   "cell_type": "markdown",
   "metadata": {},
   "source": [
    ">*The python script begins with: #!/usr/bin/env python* <br>\n",
    ">*If you have several versions of Python installed, /usr/bin/env will ensure the interpreter used is the first one on your environment's $PATH. The alternative would be to hardcode something line #!/usr/bin/python or the like -- that's OK but less flexible.*"
   ]
  },
  {
   "cell_type": "markdown",
   "metadata": {},
   "source": [
    "To start the app you just run this script. First you have to indicate that this is an executable file before you can run it:  *** chmod a+x run.py ***"
   ]
  },
  {
   "cell_type": "markdown",
   "metadata": {},
   "source": [
    "Then the script can simply be executed as follows: *** ./run.py ***"
   ]
  },
  {
   "cell_type": "markdown",
   "metadata": {},
   "source": [
    "After the server initializes it will listen on port 5000 waiting for connections. Now open up your web browser and enter the following URL in the address field: <br>\n",
    "\n",
    "http://localhost:5000\n",
    "\n",
    "This will also work: http://localhost:5000/index\n",
    "\n",
    "Do you see the route mappings in action? The first URL maps to /, while the second maps to/index. Both routes are associated to our view function, so they produce the same result. If you enter any other route you will get an error, since only these two have been mapped to a view function."
   ]
  },
  {
   "cell_type": "markdown",
   "metadata": {},
   "source": [
    "When you are done playing with the server you can just hit Ctrl-C in the Terminal to stop it."
   ]
  },
  {
   "cell_type": "markdown",
   "metadata": {},
   "source": [
    "# Flask templates "
   ]
  },
  {
   "cell_type": "markdown",
   "metadata": {},
   "source": [
    "You should have this in your directory:"
   ]
  },
  {
   "cell_type": "markdown",
   "metadata": {},
   "source": [
    "```\n",
    "app\\\n",
    "       static\\\n",
    "       templates\\\n",
    "       __init__.py\n",
    "       views.py\n",
    "tmp\\\n",
    "run.py\n",
    "```"
   ]
  },
  {
   "cell_type": "markdown",
   "metadata": {},
   "source": [
    "### 1. Editing the view"
   ]
  },
  {
   "cell_type": "markdown",
   "metadata": {},
   "source": [
    "Option 1 to expand your app is to edit your views file to be this:"
   ]
  },
  {
   "cell_type": "markdown",
   "metadata": {},
   "source": [
    "```\n",
    "from flaskexample import app\n",
    "\n",
    "@app.route('/')\n",
    "@app.route('/index')\n",
    "def index():\n",
    "   user = { 'nickname': 'Miguel' } # fake user\n",
    "   return '''\n",
    "            <html>\n",
    "             <head>\n",
    "               <title>Home Page</title>\n",
    "             </head>\n",
    "             <body>\n",
    "               <h1>Hello, ''' + user['nickname'] + '''</h1>\n",
    "             </body>\n",
    "            </html>\n",
    "          '''\n",
    "```"
   ]
  },
  {
   "cell_type": "markdown",
   "metadata": {},
   "source": [
    "I hope you agree that the solution above is very ugly. Consider how complex the code will become if you have to return a large and complex HTML page with lots of dynamic content. And what if you need to change the layout of your web site in a large app that has dozens of views, each returning HTML directly? This is clearly not a scalable option."
   ]
  },
  {
   "cell_type": "markdown",
   "metadata": {},
   "source": [
    "**Templates to the rescue!** If you could keep the logic of your application separate from the layout or presentation of your web pages things would be much better organized, don't you think? You could even hire a web designer to create a killer web site while you code the site's behaviors in Python. Templates help implement this separation."
   ]
  },
  {
   "cell_type": "markdown",
   "metadata": {},
   "source": [
    "### 2. Templates"
   ]
  },
  {
   "cell_type": "markdown",
   "metadata": {},
   "source": [
    "Let's write our first template in a new file flaskexample/templates/index.html :"
   ]
  },
  {
   "cell_type": "markdown",
   "metadata": {},
   "source": [
    "```\n",
    "<html>\n",
    " <head>\n",
    "    <title>{{title}} - microblog</title>\n",
    " </head>\n",
    " <body>\n",
    "    <h1>Hello, {{user.nickname}}!</h1>\n",
    " </body>\n",
    "</html>\n",
    "```"
   ]
  },
  {
   "cell_type": "markdown",
   "metadata": {},
   "source": [
    "As you see above, we just wrote a mostly standard HTML page, with the only difference that there are some placeholders for the dynamic content enclosed in {{ ... }} sections."
   ]
  },
  {
   "cell_type": "markdown",
   "metadata": {},
   "source": [
    "Now let's edit the file flaskexample/views.py to the following:"
   ]
  },
  {
   "cell_type": "markdown",
   "metadata": {},
   "source": [
    "```\n",
    "from flask import render_template\n",
    "from flaskexample import app\n",
    "\n",
    "@app.route('/')\n",
    "@app.route('/index')\n",
    "def index():\n",
    "   user = { 'nickname': 'Miguel' } # fake user\n",
    "   return render_template(\"index.html\",\n",
    "       title = 'Home',\n",
    "       user = user)\n",
    "```"
   ]
  },
  {
   "cell_type": "markdown",
   "metadata": {},
   "source": [
    "Try the application at this point to see how the template works.\n",
    "1. **./run.py**\n",
    "2. go to http://localhost:5000/ -- Hello Miguel!\n",
    "\n",
    "Once you have the rendered page in your browser you may want to view the source HTML and compare it against the original template.\n",
    "\n",
    "To render the template we had to import a new function from the Flask framework called render_template. This function takes a template name and a variable list of template arguments and returns the rendered template, with all the arguments replaced.\n",
    "\n",
    "Under the covers, the render_template function invokes the Jinja2 templating engine that is part of the Flask framework. Jinja2 substitutes {{...}} blocks with the corresponding values provided as template arguments."
   ]
  },
  {
   "cell_type": "markdown",
   "metadata": {},
   "source": [
    "> We just covered about half of what’s found at  http://blog.miguelgrinberg.com/post/the-flask-mega-tutorial-part-ii-templates, but you should read the following sections later: \n",
    "> * Control statements in templates\n",
    "> * Loops in templates\n",
    "> * Template inheritance."
   ]
  },
  {
   "cell_type": "markdown",
   "metadata": {
    "collapsed": true
   },
   "source": [
    "## Query and display SQL\n",
    "\n",
    "Let’s make a different page where we can pull data from postgresSQL. Change your views.py file to the following:\n",
    "\n",
    "```\n",
    "from flask import render_template\n",
    "from flaskexample import app\n",
    "from sqlalchemy import create_engine\n",
    "from sqlalchemy_utils import database_exists, create_database\n",
    "import pandas as pd\n",
    "import psycopg2\n",
    "\n",
    "user = 'Katie' #add your username here (same as previous postgreSQL)                      \n",
    "host = 'localhost'\n",
    "dbname = 'birth_db'\n",
    "db = create_engine('postgres://%s%s/%s'%(user,host,dbname))\n",
    "con = None\n",
    "con = psycopg2.connect(database = dbname, user = user)\n",
    "\n",
    "@app.route('/')\n",
    "@app.route('/index')\n",
    "def index():\n",
    "    return render_template(\"index.html\",\n",
    "       title = 'Home', user = { 'nickname': 'Miguel' },\n",
    "       )\n",
    "\n",
    "@app.route('/db')\n",
    "def birth_page():\n",
    "    sql_query = \"\"\"                                                                       \n",
    "                SELECT * FROM birth_data_table WHERE delivery_method='Cesarean';          \n",
    "                \"\"\"\n",
    "    query_results = pd.read_sql_query(sql_query,con)\n",
    "    births = \"\"\n",
    "    for i in range(0,10):\n",
    "        births += query_results.iloc[i]['birth_month']\n",
    "        births += \"<br>\"\n",
    "    return births\n",
    "```\n",
    "\n",
    "Check your python indentation matches that of above, save and do run.py, go to http://localhost:5000/ -- you’ll still see Miguel there. <br>\n",
    "Go to http://localhost:5000/db -- We just pulled months of C-sections from the birth_db database and displayed it on the website! But, it looks… not so great at this point."
   ]
  },
  {
   "cell_type": "markdown",
   "metadata": {},
   "source": [
    "## Twitter bootstrap"
   ]
  },
  {
   "cell_type": "markdown",
   "metadata": {},
   "source": [
    "1. Go to http://getbootstrap.com/ and download Bootstrap. <br>\n",
    "2. When you extract the file, you’ll find the directories: css, fonts, and js. <br>\n",
    "3. Copy these directories into your flaskexample/static folder. <br>\n",
    "4. Let’s create an html template in the flaskexample/templates folder. This time, we’re going to use Twitter Bootstrap to make stuff pretty. Let’s use the Starter Template. <br>\n",
    "    a. Check out this set of [templates](http://www.google.com/url?q=http%3A%2F%2Fgetbootstrap.com%2Fgetting-started%2F%23template&sa=D&sntz=1&usg=AFrqEzf2mnV4ZJajqjS-ZU8oLi2Z0hOuug). <br>\n",
    "    b. Click Starter Template. <br>\n",
    "    c. View the page source (right-click in Chrome for example) and copy that into a new file called ** cesareans.html ** (download html only) <br>\n",
    "    d. Now, open cesareans.html using your web browser. (On the command line, you can say “open cesareans.html” on a mac.) It should open in a browser and not look the same. In fact, it should look really bad. <br>\n",
    "    e. Go back and edit cesareans.html so that the path to Bootstrap core CSS is correct.\n",
    "        i. <link href=\"../static/css/bootstrap.min.css\" rel=\"stylesheet\">\n",
    "        ii. Open it again -- This should look almost right!\n",
    "    f. Go to the [starter-template.css](http://www.google.com/url?q=http%3A%2F%2Fgetbootstrap.com%2Fexamples%2Fstarter-template%2Fstarter-template.css&sa=D&sntz=1&usg=AFrqEzfJyJuDzF0u6nHNkaE5kkH4ZS3spQ) and create a file with that content and the same name in the same directory as cesareans.html <br>\n",
    "    g. Open it again (open cesareans.html) and it should look nice."
   ]
  },
  {
   "cell_type": "markdown",
   "metadata": {},
   "source": [
    "### Change the cesareans.html in the following bolded areas. (note, if you process this not in a code block, ipython will try to process the html! Play around if you have time!)"
   ]
  },
  {
   "cell_type": "markdown",
   "metadata": {
    "collapsed": true
   },
   "source": [
    "```\n",
    "<!DOCTYPE html>\n",
    "<html lang=\"en\">\n",
    " <head>\n",
    "   <meta charset=\"utf-8\">\n",
    "   <meta http-equiv=\"X-UA-Compatible\" content=\"IE=edge\">\n",
    "   <meta name=\"viewport\" content=\"width=device-width, initial-scale=1\">\n",
    "   <meta name=\"description\" content=\"\">\n",
    "   <meta name=\"author\" content=\"\">\n",
    "   <link rel=\"icon\" href=\"../../favicon.ico\">\n",
    "\n",
    "   <title>Starter Template for Bootstrap</title>\n",
    "\n",
    "   <!-- Bootstrap core CSS -->\n",
    "   <link href=\"../static/css/bootstrap.min.css\" rel=\"stylesheet\">\n",
    "\n",
    "   <!-- Custom styles for this template -->\n",
    "   <link href=\"starter-template.css\" rel=\"stylesheet\">\n",
    "\n",
    "   <!-- Just for debugging purposes. Don't actually copy these 2 lines! -->\n",
    "   <!--[if lt IE 9]><script src=\"../../assets/js/ie8-responsive-file-warning.js\"></script><![endif]-->\n",
    "   <script src=\"../../assets/js/ie-emulation-modes-warning.js\"></script>\n",
    "\n",
    "   <!-- IE10 viewport hack for Surface/desktop Windows 8 bug -->\n",
    "   <script src=\"../../assets/js/ie10-viewport-bug-workaround.js\"></script>\n",
    "\n",
    "   <!-- HTML5 shim and Respond.js IE8 support of HTML5 elements and media queries -->\n",
    "   <!--[if lt IE 9]>\n",
    "     <script src=\"https://oss.maxcdn.com/html5shiv/3.7.2/html5shiv.min.js\"></script>\n",
    "     <script src=\"https://oss.maxcdn.com/respond/1.4.2/respond.min.js\"></script>\n",
    "   <![endif]-->\n",
    " </head>\n",
    "\n",
    " <body>\n",
    "\n",
    "   <div class=\"navbar navbar-inverse navbar-fixed-top\" role=\"navigation\">\n",
    "     <div class=\"container\">\n",
    "       <div class=\"navbar-header\">\n",
    "         <button type=\"button\" class=\"navbar-toggle\" data-toggle=\"collapse\" data-target=\".navbar-collapse\">\n",
    "           <span class=\"sr-only\">Toggle navigation</span>\n",
    "           <span class=\"icon-bar\"></span>\n",
    "           <span class=\"icon-bar\"></span>\n",
    "           <span class=\"icon-bar\"></span>\n",
    "         </button>\n",
    "         <a class=\"navbar-brand\" href=\"#\">Project name</a>\n",
    "       </div>\n",
    "       <div class=\"collapse navbar-collapse\">\n",
    "         <ul class=\"nav navbar-nav\">\n",
    "           <li class=\"active\"><a href=\"#\">Home</a></li>\n",
    "           <li><a href=\"#about\">About</a></li>\n",
    "           <li><a href=\"#contact\">Contact</a></li>\n",
    "         </ul>\n",
    "       </div><!--/.nav-collapse -->\n",
    "     </div>\n",
    "   </div>\n",
    "```\n",
    "\n",
    "   **`<br><br>`**\n",
    "```\n",
    "   <div class=\"container\">\n",
    "     <div class=\"starter-template\">\n",
    "       <h1>Bootstrap starter template</h1>\n",
    "       <p class=\"lead\">Use this document as a way to quickly start any new project.<br> All you get is this text and a mostly barebones HTML document.</p>\n",
    "     </div>\n",
    "```\n",
    "   **`<table class=\"table table-hover\">`** <br>\n",
    "   **`<tr><th>index</th><th>Attendant</th><th>birth_month</th></tr>`** <br>\n",
    "   **`{% for birth in births %}`** <br>\n",
    "   **`<tr><td>{{ birth['index'] }}</td><td>{{ birth['attendant']}}</td><td> {{ birth['birth_month'] }}</td></tr>`** <br>\n",
    "   **`{% endfor %}`** <br>\n",
    "   **`</table>`** <br>\n",
    "   **`<script src=\"https://code.jquery.com/jquery-1.10.2.min.js\"></script>`** <br>\n",
    "   **`<script src=\"static/js/bootstrap.min.js\"></script>`** <br>\n",
    "```\n",
    "   </div><!-- /.container -->\n",
    "\n",
    "\n",
    "   <!-- Bootstrap core JavaScript\n",
    "   ================================================== -->\n",
    "   <!-- Placed at the end of the document so the pages load faster -->\n",
    "   <script src=\"https://ajax.googleapis.com/ajax/libs/jquery/1.11.1/jquery.min.js\"></script>\n",
    "```\n",
    "   **`<script src=\"static/js/bootstrap.min.js\"></script>`**\n",
    "```\n",
    "</body>\n",
    "</html>\n",
    "```"
   ]
  },
  {
   "cell_type": "markdown",
   "metadata": {},
   "source": [
    "### Edit your flaskexample/views.py file with the /db_fancy code block below"
   ]
  },
  {
   "cell_type": "markdown",
   "metadata": {},
   "source": [
    "```\n",
    "from flask import render_template\n",
    "from flaskexample import app\n",
    "from sqlalchemy import create_engine\n",
    "from sqlalchemy_utils import database_exists, create_database\n",
    "import pandas as pd\n",
    "import psycopg2\n",
    "\n",
    "user = 'Katie' #add your username here (same as previous postgreSQL)            \n",
    "host = 'localhost'\n",
    "dbname = 'birth_db'\n",
    "db = create_engine('postgres://%s%s/%s'%(user,host,dbname))\n",
    "con = None\n",
    "con = psycopg2.connect(database = dbname, user = user)\n",
    "\n",
    "@app.route('/')\n",
    "@app.route('/index')\n",
    "def index():\n",
    "    return render_template(\"index.html\",\n",
    "       title = 'Home', user = { 'nickname': 'Miguel' },\n",
    "       )\n",
    "\n",
    "@app.route('/db')\n",
    "def birth_page():\n",
    "    sql_query = \"\"\"                                                             \n",
    "                SELECT * FROM birth_data_table WHERE delivery_method='Cesarean'\\\n",
    ";                                                                               \n",
    "                \"\"\"\n",
    "    query_results = pd.read_sql_query(sql_query,con)\n",
    "    births = \"\"\n",
    "    print query_results[:10]\n",
    "    for i in range(0,10):\n",
    "        births += query_results.iloc[i]['birth_month']\n",
    "        births += \"<br>\"\n",
    "    return births\n",
    "\n",
    "@app.route('/db_fancy')\n",
    "def cesareans_page_fancy():\n",
    "    sql_query = \"\"\"\n",
    "               SELECT index, attendant, birth_month FROM birth_data_table WHERE delivery_method='Cesarean';\n",
    "                \"\"\"\n",
    "    query_results=pd.read_sql_query(sql_query,con)\n",
    "    births = []\n",
    "    for i in range(0,query_results.shape[0]):\n",
    "        births.append(dict(index=query_results.iloc[i]['index'], attendant=query_results.iloc[i]['attendant'], birth_month=query_results.iloc[i]['birth_month']))\n",
    "    return render_template('cesareans.html',births=births)\n",
    "\n",
    "```\n",
    "Double-check your python indentation again!\n",
    "\n",
    "Now, if you go to http://127.0.0.1:5000/db_fancy, you should see a pretty-ified version of the table (see below). Oh, the power of bootstrap."
   ]
  },
  {
   "cell_type": "markdown",
   "metadata": {},
   "source": [
    "## Adding buttons and integrating your app"
   ]
  },
  {
   "cell_type": "markdown",
   "metadata": {},
   "source": [
    "Now let’s make a button to pull user input into your app / model! \n",
    "\n",
    "Let’s first edit views.py to add routes for input and output pages to allow us to grab data inputted by the user:\n",
    "1. add `import request` to your flaskexample/views.py file\n",
    "2. append the following code block to the end of flaskexample/views.py to add two new 'views'\n",
    "\n",
    "```\n",
    "@app.route('/input')\n",
    "def cesareans_input():\n",
    "    return render_template(\"input.html\")\n",
    "\n",
    "@app.route('/output')\n",
    "def cesareans_output():\n",
    "    return render_template(\"output.html\")\n",
    "```"
   ]
  },
  {
   "cell_type": "markdown",
   "metadata": {},
   "source": [
    "Now lets add the templates that these views will call\n",
    "```\n",
    "cp flaskexample/templates/cesareans.html flaskexample/templates/input.html\n",
    "cp flaskexample/templates/cesareans.html flaskexample/templates/output.html\n",
    "```"
   ]
  },
  {
   "cell_type": "markdown",
   "metadata": {},
   "source": [
    "**In the next two edits, you will be removing the following block of code from input.html and output.html files you just created and replacing them with the text below:**"
   ]
  },
  {
   "cell_type": "markdown",
   "metadata": {},
   "source": [
    "**remove this:**\n",
    "```\n",
    "<div class=\"container\">\n",
    "\n",
    "      <div class=\"starter-template\">\n",
    "        <h1>Bootstrap starter template</h1>\n",
    "        <p class=\"lead\">Use this document as a way to quickly start any new project.<br> All you get is this text and a mostly barebones HTML document.</p>\n",
    "      </div>\n",
    "      <table class=\"table table-hover\"> \n",
    "        <tr><th>index</th><th>Attendant</th><th>birth_month</th></tr> \n",
    "        {% for birth in births %} \n",
    "        <tr><td>{{ birth['index'] }}</td><td>{{ birth['attendant']}}</td><td> {{ birth['birth_month'] }}</td></tr> \n",
    "        {% endfor %} \n",
    "      </table> \n",
    "      <script src=\"https://code.jquery.com/jquery-1.10.2.min.js\"></script> \n",
    "      <script src=\"static/js/bootstrap.min.js\"></script> \n",
    "\n",
    "\n",
    "    </div><!-- /.container -->\n",
    "```\n",
    "\n",
    "**Next, replace it in input.html to add an input field and a button with the text below:**\n",
    "```\n",
    "<div class=\"container\">\n",
    "\n",
    "    <div class=\"starter-template\">\n",
    "        <h2>Input Page</h2>\n",
    "        <p>Enter some user input</p>\n",
    "    </div>\n",
    "\n",
    "    <div class = \"container\">\n",
    "\n",
    "      <form  action=\"/output\" method=\"GET\">\n",
    "        <div class=\"form-group\">\n",
    "          <label for=\"birth_month\">Birth Month:</label>\n",
    "          <input type=\"text\" id=\"birth_month\" name='birth_month' placeholder=\"e.g. \">\n",
    "        </div>\n",
    "\n",
    "        <div>\n",
    "          <button type=\"submit\" class=\"btn btn-default btn-lg\">Find these Cesareans!</button>\n",
    "        </div>\n",
    "\n",
    "      </form>\n",
    "    </div>\n",
    "\n",
    "    <script src=\"https://code.jquery.com/jquery-1.10.2.min.js\"></script>\n",
    "    <script src=\"static/js/bootstrap.min.js\"></script>\n",
    "\n",
    "  </div> <!-- /.container-->\n",
    "  ```"
   ]
  },
  {
   "cell_type": "markdown",
   "metadata": {},
   "source": [
    "**And then edit output.html to contain the text below where the old container was located:**\n",
    "\n",
    "```\n",
    " <div class=\"container\">\n",
    "    <div class=\"starter-template\">\n",
    "        <h2>Output Page</h2>\n",
    "        <p>Enter some user input</p>\n",
    "    </div>\n",
    "\n",
    "    <div class = \"container\">\n",
    "\n",
    "      <form  action=\"/output\" method=\"GET\">\n",
    "        <div class=\"form-group\">\n",
    "          <label for=\"birth_month\">Birth Month:</label>\n",
    "          <input type=\"text\" id=\"birth_month\" name='birth_month' placeholder=\"e.g. \">\n",
    "        </div>\n",
    "        <div>\n",
    "          <button type=\"submit\" class=\"btn btn-default btn-lg\">Find these Cesareans!</button>\n",
    "        </div>\n",
    "      </form>\n",
    "    </div>\n",
    "    <script src=\"https://code.jquery.com/jquery-1.10.2.min.js\"></script>\n",
    "    <script src=\"static/js/bootstrap.min.js\"></script>\n",
    "\n",
    "  </div> <!-- /.container-->\n",
    "\n",
    "    <div class=\"container\">\n",
    "      <div class=\"starter-template\">\n",
    "        <h3>Results:</h3>\n",
    "        <p class=\"lead\">Below is the result of your query.<br> You just took user input and looked up the information. Now we need to expand the functionality!</p>\n",
    "      </div>\n",
    "\n",
    "      <table class=\"table table-hover\">\n",
    "      <tr><th>index</th><th>Attendant</th><th>Birth Month</th></tr>\n",
    "      {% for birth in births %}\n",
    "      <tr><td>{{ birth['index'] }}</td><td>{{ birth['attendant']}}</td><td> {{ birth['birth_month'] }}</td></tr>\n",
    "      {% endfor %}\n",
    "      </table>\n",
    "\n",
    "\n",
    "     </div><!-- /.container -->\n",
    "\n",
    "    <div class=\"container\">\n",
    "      <div class=\"starter-template\">\n",
    "        <h3>Another Result:</h3>\n",
    "        <p class=\"lead\">Now we've taken the input and called a function from your package.<br>The result is {{the_result}}</p>\n",
    "      </div>\n",
    "\n",
    "\n",
    "      <script src=\"https://code.jquery.com/jquery-1.10.2.min.js\"></script>\n",
    "      <script src=\"static/js/bootstrap.min.js\"></script>\n",
    "\n",
    "\n",
    "     </div><!-- /.container -->\n",
    "```"
   ]
  },
  {
   "cell_type": "markdown",
   "metadata": {},
   "source": [
    "**Now let’s circle back to views.py and add the functionality we need to take the user input and do something (relatively) useful with it.**\n",
    "\n",
    "```\n",
    "@app.route('/output')\n",
    "def cesareans_output():\n",
    "  #pull 'birth_month' from input field and store it\n",
    "  patient = request.args.get('birth_month')\n",
    "    #just select the Cesareans  from the birth dtabase for the month that the user inputs\n",
    "  query = \"SELECT index, attendant, birth_month FROM birth_data_table WHERE delivery_method='Cesarean' AND birth_month='%s'\" % patient\n",
    "  print query\n",
    "  query_results=pd.read_sql_query(query,con)\n",
    "  print query_results\n",
    "  births = []\n",
    "  for i in range(0,query_results.shape[0]):\n",
    "      births.append(dict(index=query_results.iloc[i]['index'], attendant=query_results.iloc[i]['attendant'], birth_month=query_results.iloc[i]['birth_month']))\n",
    "      the_result = ''\n",
    "  return render_template(\"output.html\", births = births, the_result = the_result)\n",
    "```"
   ]
  },
  {
   "cell_type": "markdown",
   "metadata": {},
   "source": [
    "** Now go to http://127.0.0.1:5000/input and input a 3 letter month abbreviation (e.g. Aug). The result should be that you are taken to http://127.0.0.1:5000/output?birth_month=Aug. You will see the returned index, birth_month, and attendant of the input month births, and the next section is a placeholder for now. **"
   ]
  },
  {
   "cell_type": "markdown",
   "metadata": {},
   "source": [
    "## Model"
   ]
  },
  {
   "cell_type": "markdown",
   "metadata": {},
   "source": [
    "Let’s make an analysis package of sorts, where you might build out your model. In flaskexample/ create a file named a_Model.py with a simple function called ModelIt."
   ]
  },
  {
   "cell_type": "markdown",
   "metadata": {},
   "source": [
    "```\n",
    "def ModelIt(fromUser  = 'Default', births = []):\n",
    "  in_month = len(births)\n",
    "  print 'The number born is %i' % in_month\n",
    "  result = in_month\n",
    "  if fromUser != 'Default':\n",
    "    return result\n",
    "  else:\n",
    "    return 'check your input'\n",
    "```"
   ]
  },
  {
   "cell_type": "markdown",
   "metadata": {},
   "source": [
    "Also, add a line to the top of views.py to include this function, and call it inside of a function for the @app.route('/output'):"
   ]
  },
  {
   "cell_type": "markdown",
   "metadata": {},
   "source": [
    "```\n",
    "from a_Model import ModelIt\n",
    "```"
   ]
  },
  {
   "cell_type": "markdown",
   "metadata": {},
   "source": [
    "at the end of the views.py file you have ***beautifully*** constructed, you will add the following to replace the return statement you already have, and you will add the result of your fancy function!:"
   ]
  },
  {
   "cell_type": "markdown",
   "metadata": {},
   "source": [
    "```\n",
    "  the_result = ModelIt(patient,births)\n",
    "  return render_template(\"output.html\", births = births, the_result = the_result)\n",
    "```"
   ]
  }
 ],
 "metadata": {
  "kernelspec": {
   "display_name": "Python 2",
   "language": "python",
   "name": "python2"
  },
  "language_info": {
   "codemirror_mode": {
    "name": "ipython",
    "version": 2
   },
   "file_extension": ".py",
   "mimetype": "text/x-python",
   "name": "python",
   "nbconvert_exporter": "python",
   "pygments_lexer": "ipython2",
   "version": "2.7.11"
  }
 },
 "nbformat": 4,
 "nbformat_minor": 0
}
