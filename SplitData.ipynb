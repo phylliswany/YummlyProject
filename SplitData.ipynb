{
 "cells": [
  {
   "cell_type": "markdown",
   "metadata": {},
   "source": [
    "Create database connection object"
   ]
  },
  {
   "cell_type": "code",
   "execution_count": 1,
   "metadata": {
    "collapsed": true
   },
   "outputs": [],
   "source": [
    "from mysql_wrapper import MysqlWrapper\n",
    "login = {'host': '127.0.0.1',\n",
    "        'user': 'root',\n",
    "        'db': 'yummly_database'}\n",
    "db = MysqlWrapper(login)"
   ]
  },
  {
   "cell_type": "code",
   "execution_count": 12,
   "metadata": {
    "collapsed": true
   },
   "outputs": [],
   "source": [
    "import numpy as np"
   ]
  },
  {
   "cell_type": "markdown",
   "metadata": {},
   "source": [
    "Read X from the database"
   ]
  },
  {
   "cell_type": "code",
   "execution_count": 28,
   "metadata": {
    "collapsed": false
   },
   "outputs": [
    {
     "name": "stdout",
     "output_type": "stream",
     "text": [
      "(3359, 4128)\n"
     ]
    }
   ],
   "source": [
    "sql = \"\"\"\n",
    "SELECT MAX(feature_id) FROM feature\n",
    "\"\"\"\n",
    "feature_length = db.read_query(sql, \"\")[0][0]\n",
    "# print feature_length\n",
    "\n",
    "sql = \"\"\"\n",
    "SELECT recipe_id, feature_id, amount FROM input\n",
    "\"\"\"\n",
    "rows = db.read_query(sql, \"\")\n",
    "row_id = 0\n",
    "X = []\n",
    "for row in rows:\n",
    "    if row[0] != row_id:\n",
    "        row_id = row[0]\n",
    "        X.append([0]*int(feature_length))\n",
    "        X[-1][row[1]-1] =row[2] \n",
    "    else:\n",
    "        X[-1][row[1]-1] =row[2]\n",
    "X = np.array(X)\n",
    "print np.shape(X)"
   ]
  },
  {
   "cell_type": "markdown",
   "metadata": {},
   "source": [
    "Read y from the database"
   ]
  },
  {
   "cell_type": "code",
   "execution_count": 29,
   "metadata": {
    "collapsed": false
   },
   "outputs": [
    {
     "name": "stdout",
     "output_type": "stream",
     "text": [
      "(3359, 6)\n"
     ]
    }
   ],
   "source": [
    "sql = \"\"\"\n",
    "SELECT recipe_id, salty, savory, sour, bitter, sweet, spicy FROM output\n",
    "\"\"\"\n",
    "rows = db.read_query(sql, \"\")\n",
    "y = []\n",
    "for row in rows:\n",
    "    y.append(row[1:])\n",
    "y = np.array(y)\n",
    "print np.shape(y)"
   ]
  },
  {
   "cell_type": "markdown",
   "metadata": {},
   "source": [
    "Split the training and testing data sets and save into files"
   ]
  },
  {
   "cell_type": "code",
   "execution_count": 22,
   "metadata": {
    "collapsed": true
   },
   "outputs": [],
   "source": [
    "from sklearn.utils import shuffle\n",
    "from sklearn.cross_validation import train_test_split"
   ]
  },
  {
   "cell_type": "code",
   "execution_count": 31,
   "metadata": {
    "collapsed": false
   },
   "outputs": [
    {
     "name": "stdout",
     "output_type": "stream",
     "text": [
      "(2687, 4128)\n",
      "(2687, 6)\n",
      "(672, 4128)\n",
      "(672, 6)\n"
     ]
    }
   ],
   "source": [
    "X, y = shuffle(X, y, random_state=1)\n",
    "X_train, X_test, y_train, y_test = train_test_split(X, y, test_size=0.2, random_state=1)\n",
    "print np.shape(X_train)\n",
    "print np.shape(y_train)\n",
    "print np.shape(X_test)\n",
    "print np.shape(y_test)\n",
    "np.save('TrainingDataX.npy', X_train)\n",
    "np.save('TrainingDatay.npy', y_train)\n",
    "np.save('TestingDataX.npy', X_test)\n",
    "np.save('TestingDatay.npy', y_test)"
   ]
  }
 ],
 "metadata": {
  "kernelspec": {
   "display_name": "Python 2",
   "language": "python",
   "name": "python2"
  },
  "language_info": {
   "codemirror_mode": {
    "name": "ipython",
    "version": 2
   },
   "file_extension": ".py",
   "mimetype": "text/x-python",
   "name": "python",
   "nbconvert_exporter": "python",
   "pygments_lexer": "ipython2",
   "version": "2.7.11"
  }
 },
 "nbformat": 4,
 "nbformat_minor": 0
}
